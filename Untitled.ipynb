{
 "cells": [
  {
   "cell_type": "code",
   "execution_count": 1,
   "id": "83028844",
   "metadata": {},
   "outputs": [],
   "source": [
    "import network2 as nn\n",
    "import parse_mnist_data as mnist"
   ]
  },
  {
   "cell_type": "code",
   "execution_count": 8,
   "id": "ff266e60",
   "metadata": {
    "scrolled": true
   },
   "outputs": [
    {
     "name": "stdout",
     "output_type": "stream",
     "text": [
      "1028 score\n",
      "end of the 0 epoch\n",
      "1028 score\n",
      "end of the 1 epoch\n",
      "2416 score\n",
      "end of the 2 epoch\n",
      "2656 score\n",
      "end of the 3 epoch\n",
      "2841 score\n",
      "end of the 4 epoch\n",
      "Wall time: 11.4 s\n"
     ]
    }
   ],
   "source": [
    "%%time\n",
    "net = nn.Network([784, 30, 10])\n",
    "net.SGD(mnist.data[0:10000], mnist.labels[0:10000], 5, 3.0, 10, mnist.data_test[0:10000], mnist.labels_test[0:10000])"
   ]
  },
  {
   "cell_type": "code",
   "execution_count": 9,
   "id": "0fcbae06",
   "metadata": {},
   "outputs": [],
   "source": [
    "import network as nn\n",
    "import parse_mnist_data as mnist"
   ]
  },
  {
   "cell_type": "code",
   "execution_count": 10,
   "id": "1a1706e8",
   "metadata": {
    "scrolled": true
   },
   "outputs": [
    {
     "name": "stdout",
     "output_type": "stream",
     "text": [
      "1009 score\n",
      "end of the 0 epoch\n",
      "1044 score\n",
      "end of the 1 epoch\n",
      "2101 score\n",
      "end of the 2 epoch\n",
      "2692 score\n",
      "end of the 3 epoch\n",
      "2831 score\n",
      "end of the 4 epoch\n",
      "Wall time: 11.6 s\n"
     ]
    }
   ],
   "source": [
    "%%time\n",
    "net = nn.Network([784, 30,  10])\n",
    "net.SGD(mnist.data[0:10000], mnist.labels[0:10000], 5, 3.0, 10, mnist.data_test[0:10000], mnist.labels_test[0:10000])"
   ]
  },
  {
   "cell_type": "code",
   "execution_count": null,
   "id": "4ae8123f",
   "metadata": {},
   "outputs": [],
   "source": []
  }
 ],
 "metadata": {
  "kernelspec": {
   "display_name": "Python 3 (ipykernel)",
   "language": "python",
   "name": "python3"
  },
  "language_info": {
   "codemirror_mode": {
    "name": "ipython",
    "version": 3
   },
   "file_extension": ".py",
   "mimetype": "text/x-python",
   "name": "python",
   "nbconvert_exporter": "python",
   "pygments_lexer": "ipython3",
   "version": "3.8.0"
  }
 },
 "nbformat": 4,
 "nbformat_minor": 5
}
