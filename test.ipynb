{
 "cells": [
  {
   "cell_type": "code",
   "execution_count": 3,
   "id": "ca3eff25",
   "metadata": {},
   "outputs": [
    {
     "name": "stdout",
     "output_type": "stream",
     "text": [
      "7009 score\n",
      "end of the 0 epoch\n",
      "8112 score\n",
      "end of the 1 epoch\n",
      "8434 score\n",
      "end of the 2 epoch\n",
      "8560 score\n",
      "end of the 3 epoch\n",
      "8639 score\n",
      "end of the 4 epoch\n"
     ]
    }
   ],
   "source": [
    "import network as nn\n",
    "import parse_mnist_data as mnist\n",
    "net = nn.Network([784, 10])\n",
    "net.SGD(mnist.data[0:10000], mnist.labels[0:10000], 5, 3.0, 10, mnist.data_test, mnist.labels_test, BP = 'bp1')"
   ]
  }
 ],
 "metadata": {
  "kernelspec": {
   "display_name": "Python 3 (ipykernel)",
   "language": "python",
   "name": "python3"
  },
  "language_info": {
   "codemirror_mode": {
    "name": "ipython",
    "version": 3
   },
   "file_extension": ".py",
   "mimetype": "text/x-python",
   "name": "python",
   "nbconvert_exporter": "python",
   "pygments_lexer": "ipython3",
   "version": "3.8.0"
  }
 },
 "nbformat": 4,
 "nbformat_minor": 5
}
